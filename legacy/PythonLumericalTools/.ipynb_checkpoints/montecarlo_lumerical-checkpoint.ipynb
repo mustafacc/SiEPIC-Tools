{
 "cells": [
  {
   "cell_type": "code",
   "execution_count": null,
   "metadata": {},
   "outputs": [],
   "source": [
    "# Setup Lumerical-Python integration, and load the SiEPIC-Tools Lumerical functions\n",
    "import lumerical\n",
    "import lumerical.load_lumapi\n",
    "lumapi = lumerical.load_lumapi.LUMAPI"
   ]
  },
  {
   "cell_type": "code",
   "execution_count": null,
   "metadata": {},
   "outputs": [],
   "source": [
    "# for debugging, to reload the lumerical module:\n",
    "import sys\n",
    "if int(sys.version[0]) > 2:\n",
    "  from importlib import reload\n",
    "reload(lumerical.interconnect)\n",
    "reload(lumerical.load_lumapi)"
   ]
  },
  {
   "cell_type": "code",
   "execution_count": null,
   "metadata": {},
   "outputs": [],
   "source": [
    "# Start Lumerical INTERCONNECT\n",
    "lumerical.interconnect.run_INTC()\n",
    "INTC = lumerical.interconnect.INTC\n",
    "lumapi.evalScript(INTC, \"?'Test';\")"
   ]
  },
  {
   "cell_type": "code",
   "execution_count": null,
   "metadata": {},
   "outputs": [],
   "source": [
    "# Find path to the MZI example netlist files\n",
    "import os, inspect\n",
    "path = os.path.dirname(os.path.abspath(inspect.getfile(inspect.currentframe())))\n",
    "folder = os.path.join(path,\"../MZI\")\n",
    "\n",
    "# Perform Lumerical INTERCONNECT simulation\n",
    "lumerical.interconnect.circuit_simulation(circuit_name=\"MZI\", folder=folder, num_detectors=1, matlab_data_files=[], simulate=True, verbose=False)"
   ]
  },
  {
   "cell_type": "code",
   "execution_count": null,
   "metadata": {},
   "outputs": [],
   "source": []
  }
 ],
 "metadata": {
  "kernelspec": {
   "display_name": "Python 3",
   "language": "python",
   "name": "python3"
  },
  "language_info": {
   "codemirror_mode": {
    "name": "ipython",
    "version": 3
   },
   "file_extension": ".py",
   "mimetype": "text/x-python",
   "name": "python",
   "nbconvert_exporter": "python",
   "pygments_lexer": "ipython3",
   "version": "3.6.4"
  }
 },
 "nbformat": 4,
 "nbformat_minor": 2
}
