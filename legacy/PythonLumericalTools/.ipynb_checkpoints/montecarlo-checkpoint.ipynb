{
 "cells": [
  {
   "cell_type": "code",
   "execution_count": 1,
   "metadata": {},
   "outputs": [
    {
     "name": "stdout",
     "output_type": "stream",
     "text": [
      "resetting Lumerical INTERCONNECT Python integration\n",
      "resetting Lumerical FDTD Python integration\n",
      "resetting Lumerical Python integration\n",
      "SiEPIC.lumerical.load_lumapi\n",
      "import lumapi success, <module 'lumapi' from '/Applications/Lumerical/INTERCONNECT/INTERCONNECT.app/Contents/API/Python/lumapi.py'>\n"
     ]
    }
   ],
   "source": [
    "# Setup Lumerical-Python integration, and load the SiEPIC-Tools Lumerical functions\n",
    "import os, sys, inspect\n",
    "path = os.path.dirname(os.path.abspath(inspect.getfile(inspect.currentframe())))\n",
    "siepic_tools_lumerical_folder = os.path.join(path,\"../klayout_dot_config/python/SiEPIC\")\n",
    "sys.path.append(siepic_tools_lumerical_folder)\n",
    "import lumerical\n",
    "lumapi = lumerical.load_lumapi.LUMAPI"
   ]
  },
  {
   "cell_type": "code",
   "execution_count": 10,
   "metadata": {},
   "outputs": [
    {
     "name": "stdout",
     "output_type": "stream",
     "text": [
      "SiEPIC.lumerical.load_lumapi\n",
      "import lumapi success, <module 'lumapi' from '/Applications/Lumerical/INTERCONNECT/INTERCONNECT.app/Contents/API/Python/lumapi.py'>\n"
     ]
    },
    {
     "data": {
      "text/plain": [
       "<module 'lumerical.load_lumapi' from '/Users/lukasc/Documents/GitHub/SiEPIC-Tools/PythonTools/../klayout_dot_config/python/SiEPIC/lumerical/load_lumapi.py'>"
      ]
     },
     "execution_count": 10,
     "metadata": {},
     "output_type": "execute_result"
    }
   ],
   "source": [
    "# for debugging:\n",
    "if int(sys.version[0]) > 2:\n",
    "  from importlib import reload\n",
    "reload(lumerical)\n",
    "reload(lumerical.interconnect)\n",
    "reload(lumerical.load_lumapi)"
   ]
  },
  {
   "cell_type": "code",
   "execution_count": 31,
   "metadata": {},
   "outputs": [],
   "source": [
    "# Start Lumerical INTERCONNECT\n",
    "INTC = lumapi.open('interconnect')"
   ]
  },
  {
   "cell_type": "code",
   "execution_count": 41,
   "metadata": {},
   "outputs": [
    {
     "ename": "LumApiError",
     "evalue": "'Failed to evaluate code'",
     "output_type": "error",
     "traceback": [
      "\u001b[0;31m---------------------------------------------------------------------------\u001b[0m",
      "\u001b[0;31mLumApiError\u001b[0m                               Traceback (most recent call last)",
      "\u001b[0;32m<ipython-input-41-83ce53bbb1b9>\u001b[0m in \u001b[0;36m<module>\u001b[0;34m()\u001b[0m\n\u001b[1;32m      1\u001b[0m \u001b[0;31m# Test integration\u001b[0m\u001b[0;34m\u001b[0m\u001b[0;34m\u001b[0m\u001b[0m\n\u001b[0;32m----> 2\u001b[0;31m \u001b[0mlumapi\u001b[0m\u001b[0;34m.\u001b[0m\u001b[0mevalScript\u001b[0m\u001b[0;34m(\u001b[0m\u001b[0mINTC\u001b[0m\u001b[0;34m,\u001b[0m \u001b[0;34m\"?'KLayout integration test.\\n';\\n\"\u001b[0m\u001b[0;34m)\u001b[0m\u001b[0;34m\u001b[0m\u001b[0m\n\u001b[0m",
      "\u001b[0;32m/Applications/Lumerical/INTERCONNECT/INTERCONNECT.app/Contents/API/Python/lumapi.py\u001b[0m in \u001b[0;36mevalScript\u001b[0;34m(handle, code)\u001b[0m\n\u001b[1;32m    135\u001b[0m     \u001b[0mec\u001b[0m \u001b[0;34m=\u001b[0m \u001b[0miapi\u001b[0m\u001b[0;34m.\u001b[0m\u001b[0mappEvalScript\u001b[0m\u001b[0;34m(\u001b[0m\u001b[0mhandle\u001b[0m\u001b[0;34m,\u001b[0m \u001b[0mcode\u001b[0m\u001b[0;34m.\u001b[0m\u001b[0mencode\u001b[0m\u001b[0;34m(\u001b[0m\u001b[0;34m)\u001b[0m\u001b[0;34m)\u001b[0m\u001b[0;34m\u001b[0m\u001b[0m\n\u001b[1;32m    136\u001b[0m     \u001b[0;32mif\u001b[0m \u001b[0mec\u001b[0m \u001b[0;34m<\u001b[0m \u001b[0;36m0\u001b[0m\u001b[0;34m:\u001b[0m\u001b[0;34m\u001b[0m\u001b[0m\n\u001b[0;32m--> 137\u001b[0;31m         \u001b[0;32mraise\u001b[0m \u001b[0mLumApiError\u001b[0m\u001b[0;34m(\u001b[0m\u001b[0;34m\"Failed to evaluate code\"\u001b[0m\u001b[0;34m)\u001b[0m\u001b[0;34m\u001b[0m\u001b[0m\n\u001b[0m\u001b[1;32m    138\u001b[0m \u001b[0;34m\u001b[0m\u001b[0m\n\u001b[1;32m    139\u001b[0m \u001b[0;32mdef\u001b[0m \u001b[0mgetVar\u001b[0m\u001b[0;34m(\u001b[0m\u001b[0mhandle\u001b[0m\u001b[0;34m,\u001b[0m \u001b[0mvarname\u001b[0m\u001b[0;34m)\u001b[0m\u001b[0;34m:\u001b[0m\u001b[0;34m\u001b[0m\u001b[0m\n",
      "\u001b[0;31mLumApiError\u001b[0m: 'Failed to evaluate code'"
     ]
    }
   ],
   "source": [
    "# Test integration\n",
    "lumapi.evalScript(INTC, \"?'KLayout integration test.\\n';\\n\")"
   ]
  },
  {
   "cell_type": "code",
   "execution_count": 11,
   "metadata": {},
   "outputs": [
    {
     "name": "stdout",
     "output_type": "stream",
     "text": [
      "SiEPIC.lumerical.interconnect.run_INTC()\n",
      "None\n",
      "<lumapi.Session object at 0x10b47c048>\n",
      "<module 'lumapi' from '/Applications/Lumerical/INTERCONNECT/INTERCONNECT.app/Contents/API/Python/lumapi.py'>\n",
      "None\n"
     ]
    },
    {
     "ename": "ArgumentError",
     "evalue": "argument 1: <class 'TypeError'>: expected Session instance instead of NoneType",
     "output_type": "error",
     "traceback": [
      "\u001b[0;31m---------------------------------------------------------------------------\u001b[0m",
      "\u001b[0;31mArgumentError\u001b[0m                             Traceback (most recent call last)",
      "\u001b[0;32m<ipython-input-11-674a35d272e7>\u001b[0m in \u001b[0;36m<module>\u001b[0;34m()\u001b[0m\n\u001b[1;32m      3\u001b[0m \u001b[0mprint\u001b[0m\u001b[0;34m(\u001b[0m\u001b[0mlumapi\u001b[0m\u001b[0;34m)\u001b[0m\u001b[0;34m\u001b[0m\u001b[0m\n\u001b[1;32m      4\u001b[0m \u001b[0mprint\u001b[0m\u001b[0;34m(\u001b[0m\u001b[0mINTC\u001b[0m\u001b[0;34m)\u001b[0m\u001b[0;34m\u001b[0m\u001b[0m\n\u001b[0;32m----> 5\u001b[0;31m \u001b[0mlumapi\u001b[0m\u001b[0;34m.\u001b[0m\u001b[0mevalScript\u001b[0m\u001b[0;34m(\u001b[0m\u001b[0mINTC\u001b[0m\u001b[0;34m,\u001b[0m \u001b[0;34m\"?'Test';\"\u001b[0m\u001b[0;34m)\u001b[0m\u001b[0;34m\u001b[0m\u001b[0m\n\u001b[0m",
      "\u001b[0;32m/Applications/Lumerical/INTERCONNECT/INTERCONNECT.app/Contents/API/Python/lumapi.py\u001b[0m in \u001b[0;36mevalScript\u001b[0;34m(handle, code)\u001b[0m\n\u001b[1;32m    133\u001b[0m \u001b[0;34m\u001b[0m\u001b[0m\n\u001b[1;32m    134\u001b[0m \u001b[0;32mdef\u001b[0m \u001b[0mevalScript\u001b[0m\u001b[0;34m(\u001b[0m\u001b[0mhandle\u001b[0m\u001b[0;34m,\u001b[0m \u001b[0mcode\u001b[0m\u001b[0;34m)\u001b[0m\u001b[0;34m:\u001b[0m\u001b[0;34m\u001b[0m\u001b[0m\n\u001b[0;32m--> 135\u001b[0;31m     \u001b[0mec\u001b[0m \u001b[0;34m=\u001b[0m \u001b[0miapi\u001b[0m\u001b[0;34m.\u001b[0m\u001b[0mappEvalScript\u001b[0m\u001b[0;34m(\u001b[0m\u001b[0mhandle\u001b[0m\u001b[0;34m,\u001b[0m \u001b[0mcode\u001b[0m\u001b[0;34m.\u001b[0m\u001b[0mencode\u001b[0m\u001b[0;34m(\u001b[0m\u001b[0;34m)\u001b[0m\u001b[0;34m)\u001b[0m\u001b[0;34m\u001b[0m\u001b[0m\n\u001b[0m\u001b[1;32m    136\u001b[0m     \u001b[0;32mif\u001b[0m \u001b[0mec\u001b[0m \u001b[0;34m<\u001b[0m \u001b[0;36m0\u001b[0m\u001b[0;34m:\u001b[0m\u001b[0;34m\u001b[0m\u001b[0m\n\u001b[1;32m    137\u001b[0m         \u001b[0;32mraise\u001b[0m \u001b[0mLumApiError\u001b[0m\u001b[0;34m(\u001b[0m\u001b[0;34m\"Failed to evaluate code\"\u001b[0m\u001b[0;34m)\u001b[0m\u001b[0;34m\u001b[0m\u001b[0m\n",
      "\u001b[0;31mArgumentError\u001b[0m: argument 1: <class 'TypeError'>: expected Session instance instead of NoneType"
     ]
    }
   ],
   "source": [
    "lumerical.interconnect.run_INTC(verbose=True)\n",
    "INTC = lumerical.load_lumapi.INTC\n",
    "print(lumapi)\n",
    "print(INTC)\n",
    "lumapi.evalScript(INTC, \"?'Test';\")"
   ]
  },
  {
   "cell_type": "code",
   "execution_count": 8,
   "metadata": {},
   "outputs": [
    {
     "name": "stdout",
     "output_type": "stream",
     "text": [
      "<module 'lumapi' from '/Applications/Lumerical/INTERCONNECT/INTERCONNECT.app/Contents/API/Python/lumapi.py'>\n",
      "None\n"
     ]
    }
   ],
   "source": [
    "print(lumapi)\n",
    "print(INTC)\n"
   ]
  }
 ],
 "metadata": {
  "kernelspec": {
   "display_name": "Python 3",
   "language": "python",
   "name": "python3"
  },
  "language_info": {
   "codemirror_mode": {
    "name": "ipython",
    "version": 3
   },
   "file_extension": ".py",
   "mimetype": "text/x-python",
   "name": "python",
   "nbconvert_exporter": "python",
   "pygments_lexer": "ipython3",
   "version": "3.6.4"
  }
 },
 "nbformat": 4,
 "nbformat_minor": 2
}
