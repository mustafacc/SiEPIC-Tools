{
 "cells": [
  {
   "cell_type": "code",
   "execution_count": null,
   "metadata": {},
   "outputs": [],
   "source": [
    "# Circuit to simulate, which is found in a sub-folder with the same name\n",
    "\n",
    "#circuit_name = \"MZI\"\n",
    "#num_detectors = 1 # number of detectors to connect to the circuit\n",
    "\n",
    "circuit_name = \"MZI_bdc\"\n",
    "num_detectors = 2 # number of detectors to connect to the circuit\n",
    "\n",
    "circuit_name = \"RingResonator\"\n",
    "num_detectors = 3 # number of detectors to connect to the circuit\n",
    "\n",
    "\n",
    "# Find path to the example netlist files\n",
    "import os, inspect\n",
    "path = os.path.dirname(os.path.abspath(inspect.getfile(inspect.currentframe())))\n",
    "folder = os.path.join(path,circuit_name)\n",
    "if not os.path.exists(folder):\n",
    "    folder = os.path.join(path,\"..\",circuit_name)\n",
    "print(folder)"
   ]
  },
  {
   "cell_type": "code",
   "execution_count": 2,
   "metadata": {},
   "outputs": [
    {
     "name": "stdout",
     "output_type": "stream",
     "text": [
      "resetting Lumerical Python integration\n",
      "SiEPIC.lumerical.load_lumapi\n",
      "import lumapi success: API handle: <module 'lumapi' from '/Applications/Lumerical/INTERCONNECT/INTERCONNECT.app/Contents/API/Python/lumapi.py'>\n"
     ]
    }
   ],
   "source": [
    "# Setup Lumerical-Python integration, and load the SiEPIC-Tools Lumerical functions\n",
    "import lumerical\n",
    "import lumerical.load_lumapi\n",
    "lumapi = lumerical.load_lumapi.LUMAPI"
   ]
  },
  {
   "cell_type": "code",
   "execution_count": 3,
   "metadata": {},
   "outputs": [],
   "source": [
    "# for debugging, to reload the lumerical module:\n",
    "if 0:\n",
    "    import sys\n",
    "    if int(sys.version[0]) > 2:\n",
    "      from importlib import reload\n",
    "    reload(lumerical.interconnect)\n",
    "    reload(lumerical.load_lumapi)"
   ]
  },
  {
   "cell_type": "code",
   "execution_count": 4,
   "metadata": {},
   "outputs": [],
   "source": [
    "# Start Lumerical INTERCONNECT\n",
    "lumerical.interconnect.run_INTC()\n",
    "INTC = lumerical.interconnect.INTC\n",
    "lumapi.evalScript(INTC, \"?'Test';\")"
   ]
  },
  {
   "cell_type": "code",
   "execution_count": 8,
   "metadata": {},
   "outputs": [
    {
     "name": "stdout",
     "output_type": "stream",
     "text": [
      "*** circuit_simulation_monte_carlo()\n",
      "/Users/lukasc/Documents/GitHub/SiEPIC-Tools/PythonLumericalTools/lumerical/../RingResonator/RingResonator_main.spi\n",
      "ports: ['ebeam_gc_te1550_detector3', 'ebeam_gc_te1550_detector2', 'ebeam_gc_te1550_laser', 'ebeam_gc_te1550_detector1']\n",
      " generated spice _main file\n"
     ]
    }
   ],
   "source": [
    "# Perform Lumerical INTERCONNECT simulation\n",
    "\n",
    "# Regular simulation:\n",
    "if 1:\n",
    "  lumerical.interconnect.circuit_simulation(circuit_name=circuit_name, folder=folder, num_detectors=num_detectors, matlab_data_files=[], simulate=True, verbose=False)\n",
    "\n",
    "# Monte Carlo simulation:\n",
    "if 0:\n",
    "  lumerical.interconnect.circuit_simulation_monte_carlo(circuit_name=circuit_name, folder=folder, num_detectors=num_detectors, matlab_data_files=[], simulate=True, verbose=False)\n"
   ]
  },
  {
   "cell_type": "code",
   "execution_count": null,
   "metadata": {},
   "outputs": [],
   "source": []
  },
  {
   "cell_type": "code",
   "execution_count": null,
   "metadata": {},
   "outputs": [],
   "source": []
  }
 ],
 "metadata": {
  "kernelspec": {
   "display_name": "Python 3",
   "language": "python",
   "name": "python3"
  },
  "language_info": {
   "codemirror_mode": {
    "name": "ipython",
    "version": 3
   },
   "file_extension": ".py",
   "mimetype": "text/x-python",
   "name": "python",
   "nbconvert_exporter": "python",
   "pygments_lexer": "ipython3",
   "version": "3.6.4"
  }
 },
 "nbformat": 4,
 "nbformat_minor": 2
}
